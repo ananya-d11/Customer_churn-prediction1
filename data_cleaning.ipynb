{
 "cells": [
  {
   "cell_type": "code",
   "execution_count": 4,
   "id": "9e2ed257",
   "metadata": {},
   "outputs": [],
   "source": [
    "import pandas as pd\n",
    "from sklearn.preprocessing import LabelEncoder, StandardScaler\n",
    "import pickle\n",
    "import numpy as np\n",
    "\n",
    "df = pd.read_csv(r'C:\\Users\\anany\\OneDrive\\Desktop\\customer_churn_prediction\\telco_customer_churn.csv')\n",
    "df.dropna(inplace=True)\n",
    "df.drop(columns=['customerID'], inplace=True, errors='ignore')\n",
    "\n",
    "# Encode categorical\n",
    "label_cols = df.select_dtypes(include='object').columns\n",
    "le = LabelEncoder()\n",
    "for col in label_cols:\n",
    "    df[col] = le.fit_transform(df[col])\n",
    "\n",
    "# Features/target split\n",
    "X = df.drop('Churn', axis=1)\n",
    "y = df['Churn']\n",
    "\n",
    "# Scale\n",
    "scaler = StandardScaler()\n",
    "X_scaled = scaler.fit_transform(X)\n",
    "\n",
    "# Save processed data\n",
    "import os\n",
    "\n",
    "# Ensure directories exist\n",
    "os.makedirs('../data', exist_ok=True)\n",
    "os.makedirs('../model', exist_ok=True)\n",
    "\n",
    "# Now save the files\n",
    "np.save('../data/X_scaled.npy', X_scaled)\n",
    "np.save('../data/y.npy', y)\n",
    "pickle.dump(scaler, open('../model/scaler.pkl', 'wb'))\n",
    "\n"
   ]
  }
 ],
 "metadata": {
  "kernelspec": {
   "display_name": "Python 3",
   "language": "python",
   "name": "python3"
  },
  "language_info": {
   "codemirror_mode": {
    "name": "ipython",
    "version": 3
   },
   "file_extension": ".py",
   "mimetype": "text/x-python",
   "name": "python",
   "nbconvert_exporter": "python",
   "pygments_lexer": "ipython3",
   "version": "3.10.11"
  }
 },
 "nbformat": 4,
 "nbformat_minor": 5
}
